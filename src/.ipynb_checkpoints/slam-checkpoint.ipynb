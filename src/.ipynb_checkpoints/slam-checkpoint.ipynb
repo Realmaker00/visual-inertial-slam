{
 "cells": [
  {
   "cell_type": "code",
   "execution_count": 1,
   "metadata": {},
   "outputs": [],
   "source": [
    "import numpy as np\n",
    "\n",
    "from numpy.linalg import norm, inv, pinv\n",
    "from utils import *"
   ]
  },
  {
   "cell_type": "markdown",
   "metadata": {},
   "source": [
    "# Read Data"
   ]
  },
  {
   "cell_type": "code",
   "execution_count": 35,
   "metadata": {},
   "outputs": [],
   "source": [
    "filename = \"./data/0034.npz\"  # 22, 27, 34\n",
    "t,features,linear_velocity,angular_velocity,K,b,cam_T_imu = load_data(filename)"
   ]
  },
  {
   "cell_type": "code",
   "execution_count": 36,
   "metadata": {},
   "outputs": [
    {
     "name": "stdout",
     "output_type": "stream",
     "text": [
      "(1, 1224)\n",
      "(4, 4815, 1224)\n",
      "(3, 1224)\n",
      "(3, 1224)\n"
     ]
    }
   ],
   "source": [
    "print(t.shape)\n",
    "print(features.shape)\n",
    "print(linear_velocity.shape)\n",
    "print(angular_velocity.shape)"
   ]
  },
  {
   "cell_type": "markdown",
   "metadata": {},
   "source": [
    "## feature preprocess"
   ]
  },
  {
   "cell_type": "code",
   "execution_count": 37,
   "metadata": {},
   "outputs": [],
   "source": [
    "sampled_features = np.zeros((4, int(features.shape[1]/4)+1, features.shape[2]))\n",
    "for i, idx in enumerate(range(0, int(features.shape[1]), 4)):\n",
    "    sampled_features[:,i,:] = features[:,idx,:]"
   ]
  },
  {
   "cell_type": "markdown",
   "metadata": {},
   "source": [
    "# IMU Localization via EKF Prediction"
   ]
  },
  {
   "cell_type": "code",
   "execution_count": 38,
   "metadata": {},
   "outputs": [],
   "source": [
    "def hat_map(vec):\n",
    "    '''\n",
    "        Transform vec in R^3 to a skew-symmetric vec_hat in R^3x3\n",
    "        \n",
    "        Input:\n",
    "            vec - a 3x1 vector\n",
    "        Output:\n",
    "            vec_hat - a 3x3 matrix\n",
    "    '''\n",
    "    vec_hat = np.zeros((3,3))\n",
    "    vec_hat[2,1] = vec[0]\n",
    "    vec_hat[1,2] = -vec[0]\n",
    "    vec_hat[2,0] = -vec[1]\n",
    "    vec_hat[0,2] = vec[1]\n",
    "    vec_hat[0,1] = -vec[2]\n",
    "    vec_hat[1,0] = vec[2]\n",
    "    return vec_hat\n",
    "\n",
    "def adjoint(p, theta):\n",
    "    '''\n",
    "        Map u=[p,theta]^T in R^6 to se(3) in 4x4\n",
    "        \n",
    "        Input:\n",
    "            p     - a 3x1 vector\n",
    "            theta - a 3x1 vector\n",
    "        Output:\n",
    "            u_adjoint - a 6x6 matrix in SE(3)\n",
    "    ''' \n",
    "    p_hat     = hat_map(p)\n",
    "    theta_hat = hat_map(theta)\n",
    "    u_adjoint = np.zeros((6,6))\n",
    "    u_adjoint[:3,:3] = theta_hat\n",
    "    u_adjoint[3:,3:] = theta_hat\n",
    "    u_adjoint[:3,3:] = p_hat\n",
    "    return u_adjoint\n",
    "\n",
    "def twist(p, theta):\n",
    "    '''\n",
    "        Map u=[p,theta]^T in R^6 to the adjoint of SE(3) in 6x6\n",
    "        \n",
    "        Input:\n",
    "            p     - a 3x1 vector\n",
    "            theta - a 3x1 vector\n",
    "        Output:\n",
    "            twist - a 4x4 matrix in se(3)\n",
    "    '''\n",
    "    twist        = np.zeros((4,4))\n",
    "    theta_hat    = hat_map(theta)\n",
    "    twist[:3,:3] = theta_hat\n",
    "    twist[:3,3]  = p\n",
    "    return twist\n",
    "\n",
    "def rodrigues_3(p, theta):\n",
    "    '''\n",
    "        u = [p,theta]^T\n",
    "        Rodrigues formula for u where u is 6x1\n",
    "    '''\n",
    "    u  = twist(p,theta) # get u in SE(3)\n",
    "    u2 = np.dot(u, u)   # u^2\n",
    "    u3 = np.dot(u, u2)  # u^3\n",
    "    u2_coeff = (1-np.cos(norm(theta)))/(norm(theta)**2)\n",
    "    u3_coeff = (norm(theta)-np.sin(norm(theta)))/(np.power(norm(theta),3))\n",
    "    \n",
    "    T = np.eye(4) + u + u2_coeff*u2 + u3_coeff*u3\n",
    "    return T\n",
    "\n",
    "def approx_rodrigues_3(p, theta):\n",
    "    '''\n",
    "        u = [v,w]^T\n",
    "        Approximate Rodrigues formula for u where u is 6x1 to avoid nan\n",
    "    '''\n",
    "    u  = twist(p,theta) # get u in SE(3)\n",
    "    T = np.eye(4) + u\n",
    "    return T\n",
    "\n",
    "def rodrigues_6(p, theta):\n",
    "    '''\n",
    "        Rodrigues formula for u where u is 6x6\n",
    "    '''\n",
    "    u = adjoint(p, theta) # get u in adjoint of SE(3)\n",
    "    u2 = np.dot(u, u)     # u^2\n",
    "    u3 = np.dot(u, u2)    # u^3\n",
    "    u4 = np.dot(u, u3)    # u^4\n",
    "    u_coeff  = (3*np.sin(norm(theta)) - norm(theta)*np.cos(norm(theta))) / (2 * norm(theta))\n",
    "    u2_coeff = (4 - norm(theta)*np.sin(norm(theta)) - 4*np.cos(norm(theta))) / (2 * norm(theta)**2)\n",
    "    u3_coeff = (np.sin(norm(theta)) - norm(theta)*np.cos(norm(theta))) / (2 * np.power(norm(theta),3))\n",
    "    u4_coeff = (2 - norm(theta)*np.sin(norm(theta)) - 2*np.cos(norm(theta))) / (2 * np.power(norm(theta),4))\n",
    "    \n",
    "    T = np.eye(6) + u_coeff*u + u2_coeff*u2 + u3_coeff*u3 + u4_coeff*u4\n",
    "    return T\n",
    "    \n",
    "def mu_predict(mu, v, w, dt):\n",
    "    '''\n",
    "        EKF mean prediction\n",
    "        \n",
    "        Input:\n",
    "            mu - current mean\n",
    "            v  - current linear velocity\n",
    "            w  - current rotational velocity\n",
    "            dt - time interval\n",
    "        Outputs:\n",
    "            mu_pred - predicted mean\n",
    "    '''\n",
    "    p       = -dt * v\n",
    "    theta   = -dt * w\n",
    "    mu_pred = np.dot(rodrigues_3(p, theta), mu)\n",
    "    return mu_pred\n",
    "\n",
    "def cov_predict(cov, v, w, dt, noise):\n",
    "    '''\n",
    "        EKF covariance prediction\n",
    "        \n",
    "        Input:\n",
    "            cov   - current covariance\n",
    "            v     - current linear velocity\n",
    "            w     - current rotational velocity\n",
    "            dt    - time interval\n",
    "            niose - motion noise covariance\n",
    "        Outputs:\n",
    "            cov_pred - predicted covariance\n",
    "    '''\n",
    "    p        = -dt * v\n",
    "    theta    = -dt * w\n",
    "    cov_pred = np.dot(rodrigues_6(p, theta), cov)\n",
    "    cov_pred = np.dot(cov_pred, rodrigues_6(p, theta).T)\n",
    "    cov_pred = cov_pred + noise\n",
    "    return cov_pred"
   ]
  },
  {
   "cell_type": "code",
   "execution_count": 39,
   "metadata": {},
   "outputs": [],
   "source": [
    "def motion_model_prediction(t, v, w, w_scale):\n",
    "    '''\n",
    "        Get IMU pose using EKF prediction\n",
    "        \n",
    "        Input:\n",
    "            t - time stamps\n",
    "            v - linear velocity\n",
    "            w - angular velocity\n",
    "            w_scale - scale of the motion noise\n",
    "        Outputs:\n",
    "            pose     - world to IMU frame T over time, size 4x4xN\n",
    "            inv_pose - IMU to world frame T over time, size 4x4xN\n",
    "    '''\n",
    "    # get time discretization\n",
    "    tau = t[:,1:] - t[:,:-1]\n",
    "    n = tau.shape[1]\n",
    "\n",
    "    # initialize mu, covariance, and noise\n",
    "    mu  = np.eye(4)\n",
    "    cov = np.eye(6)\n",
    "    W_noise = np.eye(6) * w_scale\n",
    "\n",
    "    # poses\n",
    "    imu_pose            = np.zeros((4,4,n+1)) # w_T_i\n",
    "    inv_imu_pose        = np.zeros((4,4,n+1)) # i_T_w\n",
    "    imu_pose[:,:,0]     = mu\n",
    "    inv_imu_pose[:,:,0] = inv(mu)\n",
    "\n",
    "    for i in range(n):\n",
    "        dt     = tau[:,i]\n",
    "        linear_noise  = np.random.randn(3) * w_scale\n",
    "        angular_noise = np.random.randn(3) * w_scale\n",
    "        v_curr = v[:,i] + linear_noise\n",
    "        w_curr = w[:,i] + angular_noise\n",
    "        mu     = mu_predict(mu, v_curr, w_curr, dt)\n",
    "        cov    = cov_predict(cov, v_curr, w_curr, dt, W_noise)\n",
    "        inv_imu_pose[:,:,i+1] = mu\n",
    "        imu_pose[:,:,i+1] = inv(mu)\n",
    "        \n",
    "    return inv_imu_pose, imu_pose"
   ]
  },
  {
   "cell_type": "code",
   "execution_count": 40,
   "metadata": {},
   "outputs": [],
   "source": [
    "i_T_w, w_T_i = motion_model_prediction(t, linear_velocity, angular_velocity, w_scale=10e-7)"
   ]
  },
  {
   "cell_type": "code",
   "execution_count": 41,
   "metadata": {},
   "outputs": [
    {
     "data": {
      "image/png": "[encoded data removed]",
      "text/plain": [
       "<Figure size 360x360 with 1 Axes>"
      ]
     },
     "metadata": {
      "needs_background": "light"
     },
     "output_type": "display_data"
    },
    {
     "data": {
      "text/plain": [
       "(<Figure size 360x360 with 1 Axes>,\n",
       " <matplotlib.axes._subplots.AxesSubplot at 0x11a8fd5f8>)"
      ]
     },
     "execution_count": 41,
     "metadata": {},
     "output_type": "execute_result"
    }
   ],
   "source": [
    "visualize_trajectory_2d(w_T_i, show_ori=True)"
   ]
  },
  {
   "cell_type": "markdown",
   "metadata": {},
   "source": [
    "# Landmark Mapping via EKF Update"
   ]
  },
  {
   "cell_type": "code",
   "execution_count": 42,
   "metadata": {},
   "outputs": [],
   "source": [
    "def get_calibration(K, b):\n",
    "    '''\n",
    "        Get calibration matrix M from K and b\n",
    "        \n",
    "        Input:\n",
    "            K - camera calibration matrix\n",
    "            b - stereo baseline\n",
    "        Output:\n",
    "            M - stereo camera calibration matrix\n",
    "    '''\n",
    "    M   = np.vstack([K[:2], K[:2]])\n",
    "    arr = np.array([0, 0, -K[0,0]*float(b), 0]).reshape((4,1))\n",
    "    M   = np.hstack([M, arr])\n",
    "    return M\n",
    "\n",
    "def projection(q):\n",
    "    '''\n",
    "        Get the projection of a vector in R^4\n",
    "        \n",
    "        Input:\n",
    "            q  - a vector in R^4\n",
    "        Output:\n",
    "            pi - corresponding projection\n",
    "    '''\n",
    "    pi = q / q[2]\n",
    "    return pi\n",
    "\n",
    "def d_projection(q):\n",
    "    '''\n",
    "        Take a R^4 vector and return the derivative of its projection function\n",
    "        \n",
    "        Input:\n",
    "            q  - a vector in R^4\n",
    "        Output:\n",
    "            dq - corresponding derivative of the projection function, size 4x4\n",
    "    '''\n",
    "    dq = np.zeros((4,4))\n",
    "    dq[0,0] = 1\n",
    "    dq[1,1] = 1\n",
    "    dq[0,2] = -q[0]/q[2]\n",
    "    dq[1,2] = -q[1]/q[2]\n",
    "    dq[3,2] = -q[3]/q[2]\n",
    "    dq[3,3] = 1\n",
    "    dq = dq / q[2]\n",
    "    return dq\n",
    "\n",
    "def pixel_to_world(p, i_T_w, o_T_i, K, b):\n",
    "    '''\n",
    "        Get homogeneous coordinates xyz in world frame from left right pixels\n",
    "        \n",
    "        Input:\n",
    "            p     - left right pixels, size 1x4\n",
    "            i_T_w - current pose of IMU, size 4x4\n",
    "            o_T_i - imu to optical frame rotation, size 3x3\n",
    "            K     - camera calibration matrix\n",
    "            b     - stereo baseline\n",
    "        Output:\n",
    "            m_w   - homogeneous coordinates\n",
    "    '''\n",
    "    uL, vL, uR, vR = p\n",
    "    fsu = K[0,0]\n",
    "    fsv = K[1,1]\n",
    "    cu  = K[0,2]\n",
    "    cv  = K[1,2]\n",
    "    z   = (fsu*b) / (uL-uR)\n",
    "    x   = z * (uL-cu) / fsu\n",
    "    y   = z * (vL-cv) / fsv\n",
    "    m_o = np.array([x,y,z,1]).reshape([4,1])\n",
    "    m_i = np.dot(inv(o_T_i), m_o)\n",
    "    m_w = np.dot(inv(i_T_w), m_i)\n",
    "    return m_w\n",
    "\n",
    "def get_Ht(H_list, num_feature, isSLAM=False):\n",
    "    '''\n",
    "        Get the model Jacobian\n",
    "    '''\n",
    "    if isSLAM:\n",
    "        Nt = len(H_list)\n",
    "        Ht = np.zeros([4*Nt, 3*num_feature+6])\n",
    "        for i in range(Nt):\n",
    "            j = H_list[i][0]      # landmark index\n",
    "            H_obs  = H_list[i][1]\n",
    "            H_pose = H_list[i][2]\n",
    "            Ht[i*4:(i+1)*4, 3*j:3*(j+1)] = H_obs\n",
    "            Ht[i*4:(i+1)*4, -6:] = H_pose\n",
    "    else:\n",
    "        Nt = len(H_list)\n",
    "        Ht = np.zeros([4*Nt, 3*num_feature])\n",
    "        for i in range(Nt):\n",
    "            j = H_list[i][0]      # landmark index\n",
    "            H = H_list[i][1]      # current Hij\n",
    "            Ht[i*4:(i+1)*4,3*(j):3*(j+1)] = H\n",
    "    return Ht\n",
    "\n",
    "def get_Kt(cov, Ht, v):\n",
    "    '''\n",
    "        Get the Kalman gain\n",
    "    '''\n",
    "    V_noise  = np.eye(Ht.shape[0]) * v\n",
    "    inv_term = np.dot(Ht, np.dot(cov, Ht.T)) + V_noise\n",
    "    Kt       = np.dot(np.dot(cov, Ht.T), inv(inv_term))\n",
    "    return Kt"
   ]
  },
  {
   "cell_type": "code",
   "execution_count": 43,
   "metadata": {
    "scrolled": true
   },
   "outputs": [],
   "source": [
    "def landmark_mapping(features, i_T_w, K, b, cam_T_imu, v_scale=100):\n",
    "    '''\n",
    "        Get landmarks position using EKF update\n",
    "        \n",
    "        Input:\n",
    "            features  - landmarks\n",
    "            i_T_w     - inverse imu pose\n",
    "            K         - camera calibration matrix\n",
    "            b         - stereo baseline\n",
    "            cam_T_imu - imu to camera transformation\n",
    "            v_scale   - scale of the observation noise\n",
    "        Outputs:\n",
    "            landmarks - landmarks position in the world frame\n",
    "    '''\n",
    "    num_feature = features.shape[1]\n",
    "    mu_hasinit  = np.zeros(num_feature)\n",
    "    mu      = np.zeros((4*num_feature, 1))\n",
    "    cov     = np.eye(3*num_feature)\n",
    "    M       = get_calibration(K,b)\n",
    "    P       = np.vstack([np.eye(3), np.zeros([1,3])]) # projection matrix\n",
    "    P_block = np.tile(P, [num_feature, num_feature])\n",
    "\n",
    "    for i in range(features.shape[2]):\n",
    "        if(i%100==0):\n",
    "            print(i)\n",
    "        Ut        = i_T_w[:,:,i]      # current inverse IMU pose\n",
    "        feature   = features[:,:,i]   # current landmarks\n",
    "        zt        = np.array([])      # to store zt\n",
    "        zt_hat    = np.array([])      # to store zt_hat\n",
    "        H_list = []                   # to store Hij\n",
    "        observation_noise = np.random.randn() * np.sqrt(v_scale)\n",
    "        for j in range(feature.shape[1]):\n",
    "            # if is a valid feature\n",
    "            if(feature[:,j] != np.array([-1,-1,-1,-1])).all():\n",
    "                # check if has seen before\n",
    "                # initialize if not seen before\n",
    "                # update otherwise\n",
    "                if(mu_hasinit[j] == 0):\n",
    "                    m = pixel_to_world(feature[:,j], Ut, cam_T_imu, K, b)\n",
    "                    mu[4*j:4*(j+1)] = m\n",
    "                    cov[3*j:3*(j+1), 3*j:3*(j+1)] = np.eye(3) * 1e-3\n",
    "                    mu_hasinit[j] = 1     # mark as seen\n",
    "                else:\n",
    "                    mu_curr = mu[4*j:4*(j+1)]\n",
    "                    q       = np.dot(cam_T_imu, np.dot(Ut, mu_curr))\n",
    "                    zt      = np.concatenate((zt, feature[:,j]+observation_noise), axis=None)\n",
    "                    zt_hat  = np.concatenate((zt_hat, np.dot(M, projection(q))), axis=None)\n",
    "                    # compute H_ij\n",
    "                    H       = ((M.dot(d_projection(q))).dot(cam_T_imu).dot(Ut)).dot(P)\n",
    "                    H_list.append((j, H))\n",
    "\n",
    "        Nt     = len(H_list)\n",
    "        zt     = zt.reshape([4*Nt,1])\n",
    "        zt_hat = zt_hat.reshape([4*Nt,1])\n",
    "        Ht     = get_Ht(H_list, num_feature)\n",
    "        Kt     = get_Kt(cov, Ht, v_scale)\n",
    "\n",
    "        # update mu and cov\n",
    "        mu = mu + P_block.dot(Kt.dot(zt-zt_hat))\n",
    "        cov = np.dot((np.eye(3*num_feature) - np.dot(Kt,Ht)),cov)\n",
    "\n",
    "    landmarks = mu.reshape([num_feature,4])\n",
    "    return landmarks"
   ]
  },
  {
   "cell_type": "code",
   "execution_count": 44,
   "metadata": {
    "scrolled": true
   },
   "outputs": [
    {
     "name": "stdout",
     "output_type": "stream",
     "text": [
      "0\n",
      "100\n",
      "200\n",
      "300\n",
      "400\n",
      "500\n",
      "600\n",
      "700\n",
      "800\n",
      "900\n",
      "1000\n",
      "1100\n",
      "1200\n"
     ]
    }
   ],
   "source": [
    "landmarks = landmark_mapping(sampled_features, i_T_w, K, b, cam_T_imu)"
   ]
  },
  {
   "cell_type": "code",
   "execution_count": 45,
   "metadata": {},
   "outputs": [
    {
     "data": {
      "image/png": "[encoded data removed]",
      "text/plain": [
       "<Figure size 360x360 with 1 Axes>"
      ]
     },
     "metadata": {
      "needs_background": "light"
     },
     "output_type": "display_data"
    },
    {
     "data": {
      "text/plain": [
       "(<Figure size 360x360 with 1 Axes>,\n",
       " <matplotlib.axes._subplots.AxesSubplot at 0x11afd0470>)"
      ]
     },
     "execution_count": 45,
     "metadata": {},
     "output_type": "execute_result"
    }
   ],
   "source": [
    "visualize(w_T_i, landmarks)"
   ]
  },
  {
   "cell_type": "markdown",
   "metadata": {},
   "source": [
    "# Visual-Inertial SLAM"
   ]
  },
  {
   "cell_type": "code",
   "execution_count": 46,
   "metadata": {},
   "outputs": [],
   "source": [
    "def circle(m):\n",
    "    '''\n",
    "        circle operator\n",
    "        \n",
    "        Input:\n",
    "            m - a vector in R^4, [x,y,z,1]\n",
    "        Output:\n",
    "            result - a matrix of size 4x6\n",
    "    '''\n",
    "    s      = m[:3]\n",
    "    s_hat  = hat_map(s)\n",
    "    result = np.hstack((np.eye(3), -s_hat))\n",
    "    result = np.vstack((result, np.zeros((1,6))))\n",
    "    return result"
   ]
  },
  {
   "cell_type": "code",
   "execution_count": 47,
   "metadata": {},
   "outputs": [],
   "source": [
    "def visual_slam(t, v, w, features, K, b, cam_T_imu, v_scale=100, w_scale=10e-5):\n",
    "    # get time discretization\n",
    "    tau = t[:,1:] - t[:,:-1]\n",
    "    n = tau.shape[1]\n",
    "    \n",
    "    num_feature = features.shape[1]\n",
    "\n",
    "    # initialize mu and covariance\n",
    "    mu_imu  = np.eye(4)\n",
    "    mu_obs  = np.zeros((4*num_feature, 1))\n",
    "    cov     = np.eye(3*num_feature+6)\n",
    "    W_noise = np.eye(6) * w_scale\n",
    "\n",
    "    # poses\n",
    "    imu_pose            = np.zeros((4,4,n+1)) # w_T_i\n",
    "    inv_imu_pose        = np.zeros((4,4,n+1)) # i_T_w\n",
    "    imu_pose[:,:,0]     = mu_imu\n",
    "    inv_imu_pose[:,:,0] = inv(mu_imu)\n",
    "\n",
    "    mu_hasinit  = np.zeros(num_feature)\n",
    "    M       = get_calibration(K,b)\n",
    "    P       = np.vstack([np.eye(3), np.zeros([1,3])]) # projection matrix\n",
    "    P_block = np.tile(P, [num_feature, num_feature])\n",
    "\n",
    "    for i in range(n):\n",
    "        if(i%100==0):\n",
    "            print(i)\n",
    "        dt        = tau[:,i]          # time interval\n",
    "        Ut        = mu_imu            # current inverse IMU pose\n",
    "        feature   = features[:,:,i]   # current landmarks\n",
    "        zt        = np.array([])      # to store zt\n",
    "        zt_hat    = np.array([])      # to store zt_hat\n",
    "        H_list = []                   # to store Hij\n",
    "        observation_noise = np.random.randn() * np.sqrt(v_scale)\n",
    "        for j in range(feature.shape[1]):\n",
    "            # if is a valid feature\n",
    "            if(feature[:,j] != np.array([-1,-1,-1,-1])).all():\n",
    "                # check if has seen before\n",
    "                # initialize if not seen before\n",
    "                # update otherwise\n",
    "                if(mu_hasinit[j] == 0):\n",
    "                    m = pixel_to_world(feature[:,j], Ut, cam_T_imu, K, b)\n",
    "                    mu_obs[4*j:4*(j+1)] = m\n",
    "                    cov[3*j:3*(j+1), 3*j:3*(j+1)] = np.eye(3) * 1e-4\n",
    "                    mu_hasinit[j] = 1     # mark as seen\n",
    "                else:\n",
    "                    mu_curr = mu_obs[4*j:4*(j+1)]\n",
    "                    q1      = np.dot(cam_T_imu, np.dot(Ut, mu_curr))\n",
    "                    q2      = circle(np.dot(Ut, mu_curr))\n",
    "                    zt      = np.concatenate((zt, feature[:,j]+observation_noise), axis=None)\n",
    "                    zt_hat  = np.concatenate((zt_hat, np.dot(M, projection(q1))), axis=None)\n",
    "                    # compute H\n",
    "                    H_obs   = ((M.dot(d_projection(q1))).dot(cam_T_imu).dot(Ut)).dot(P)\n",
    "                    H_pose  = (M.dot(d_projection(q1))).dot(cam_T_imu).dot(q2)\n",
    "                    H_list.append((j, H_obs, H_pose))\n",
    "\n",
    "        Nt     = len(H_list)\n",
    "        zt     = zt.reshape([4*Nt,1])\n",
    "        zt_hat = zt_hat.reshape([4*Nt,1])\n",
    "        Ht     = get_Ht(H_list, num_feature, isSLAM=True)\n",
    "        Kt     = get_Kt(cov, Ht, v_scale)\n",
    "\n",
    "        # update mean and cov\n",
    "        Kt_obs  = Kt[:-6,:]  # 3M x 4Nt\n",
    "        Kt_pose = Kt[-6:, :] #  6 x 4Nt\n",
    "\n",
    "        p      = np.dot(Kt_pose, zt-zt_hat)[:3].flatten()\n",
    "        theta  = np.dot(Kt_pose, zt-zt_hat)[-3:].flatten()\n",
    "\n",
    "        mu_obs = mu_obs + P_block.dot(Kt_obs.dot(zt-zt_hat))\n",
    "        \n",
    "        mu_imu = np.dot(approx_rodrigues_3(p, theta), mu_imu)\n",
    "        cov    = np.dot((np.eye(3*num_feature+6) - np.dot(Kt,Ht)),cov)\n",
    "        \n",
    "        # store imu pose\n",
    "        inv_imu_pose[:,:,i+1] = mu_imu\n",
    "        imu_pose[:,:,i+1] = inv(mu_imu)\n",
    "\n",
    "        # predict mean and cov\n",
    "        noise  = np.random.randn() * w_scale\n",
    "        v_curr = v[:,i] + noise\n",
    "        w_curr = w[:,i] + noise\n",
    "        mu_imu = mu_predict(mu_imu, v_curr, w_curr, dt)\n",
    "        cov[-6:,-6:]  = cov_predict(cov[-6:,-6:], v_curr, w_curr, dt, W_noise)\n",
    "        \n",
    "    mu_obs = mu_obs.reshape((num_feature, 4))\n",
    "    return inv_imu_pose, imu_pose, mu_obs"
   ]
  },
  {
   "cell_type": "code",
   "execution_count": 48,
   "metadata": {
    "scrolled": true
   },
   "outputs": [
    {
     "name": "stdout",
     "output_type": "stream",
     "text": [
      "0\n",
      "100\n",
      "200\n",
      "300\n",
      "400\n",
      "500\n",
      "600\n",
      "700\n",
      "800\n",
      "900\n",
      "1000\n",
      "1100\n",
      "1200\n"
     ]
    }
   ],
   "source": [
    "slam_iTw, slam_wTi, slam_landmarks = visual_slam(t, linear_velocity, angular_velocity, sampled_features, K, b, cam_T_imu)"
   ]
  },
  {
   "cell_type": "code",
   "execution_count": 49,
   "metadata": {},
   "outputs": [
    {
     "data": {
      "image/png": "[encoded data removed]",
      "text/plain": [
       "<Figure size 360x360 with 1 Axes>"
      ]
     },
     "metadata": {
      "needs_background": "light"
     },
     "output_type": "display_data"
    },
    {
     "data": {
      "text/plain": [
       "(<Figure size 360x360 with 1 Axes>,\n",
       " <matplotlib.axes._subplots.AxesSubplot at 0x118242518>)"
      ]
     },
     "execution_count": 49,
     "metadata": {},
     "output_type": "execute_result"
    }
   ],
   "source": [
    "visualize(slam_wTi, slam_landmarks)"
   ]
  },
  {
   "cell_type": "markdown",
   "metadata": {},
   "source": [
    "# Comparison"
   ]
  },
  {
   "cell_type": "code",
   "execution_count": 50,
   "metadata": {},
   "outputs": [
    {
     "data": {
      "image/png": "[encoded data removed]",
      "text/plain": [
       "<Figure size 360x360 with 1 Axes>"
      ]
     },
     "metadata": {
      "needs_background": "light"
     },
     "output_type": "display_data"
    },
    {
     "data": {
      "text/plain": [
       "(<Figure size 360x360 with 1 Axes>,\n",
       " <matplotlib.axes._subplots.AxesSubplot at 0x11550c908>)"
      ]
     },
     "execution_count": 50,
     "metadata": {},
     "output_type": "execute_result"
    }
   ],
   "source": [
    "compare_result(w_T_i, slam_wTi, landmarks, slam_landmarks)"
   ]
  },
  {
   "cell_type": "code",
   "execution_count": null,
   "metadata": {},
   "outputs": [],
   "source": []
  }
 ],
 "metadata": {
  "kernelspec": {
   "display_name": "Python 3",
   "language": "python",
   "name": "python3"
  },
  "language_info": {
   "codemirror_mode": {
    "name": "ipython",
    "version": 3
   },
   "file_extension": ".py",
   "mimetype": "text/x-python",
   "name": "python",
   "nbconvert_exporter": "python",
   "pygments_lexer": "ipython3",
   "version": "3.7.1"
  }
 },
 "nbformat": 4,
 "nbformat_minor": 2
}
